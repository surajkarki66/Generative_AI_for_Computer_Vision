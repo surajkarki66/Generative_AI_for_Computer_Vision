{
  "nbformat": 4,
  "nbformat_minor": 0,
  "metadata": {
    "colab": {
      "provenance": [],
      "gpuType": "T4"
    },
    "kernelspec": {
      "name": "python3",
      "display_name": "Python 3"
    },
    "language_info": {
      "name": "python"
    },
    "accelerator": "GPU"
  },
  "cells": [
    {
      "cell_type": "markdown",
      "source": [
        "## Downloading the dataset"
      ],
      "metadata": {
        "id": "6D_ddgWUTPrO"
      }
    },
    {
      "cell_type": "code",
      "source": [
        "!wget https://ai.stanford.edu/~amaas/data/sentiment/aclImdb_v1.tar.gz\n",
        "!tar -xf aclImdb_v1.tar.gz"
      ],
      "metadata": {
        "colab": {
          "base_uri": "https://localhost:8080/"
        },
        "id": "tB_38LqlTUO2",
        "outputId": "4a16db76-4fbe-4c9b-d285-5d64ab78cf66"
      },
      "execution_count": 1,
      "outputs": [
        {
          "output_type": "stream",
          "name": "stdout",
          "text": [
            "--2023-12-02 05:03:25--  https://ai.stanford.edu/~amaas/data/sentiment/aclImdb_v1.tar.gz\n",
            "Resolving ai.stanford.edu (ai.stanford.edu)... 171.64.68.10\n",
            "Connecting to ai.stanford.edu (ai.stanford.edu)|171.64.68.10|:443... connected.\n",
            "HTTP request sent, awaiting response... 200 OK\n",
            "Length: 84125825 (80M) [application/x-gzip]\n",
            "Saving to: ‘aclImdb_v1.tar.gz’\n",
            "\n",
            "aclImdb_v1.tar.gz   100%[===================>]  80.23M  11.3MB/s    in 13s     \n",
            "\n",
            "2023-12-02 05:03:39 (6.07 MB/s) - ‘aclImdb_v1.tar.gz’ saved [84125825/84125825]\n",
            "\n"
          ]
        }
      ]
    },
    {
      "cell_type": "markdown",
      "source": [
        "## Preparing the dataset"
      ],
      "metadata": {
        "id": "IZ9n-GGi6If0"
      }
    },
    {
      "cell_type": "code",
      "source": [
        "import tensorflow as tf\n",
        "from tensorflow import keras"
      ],
      "metadata": {
        "id": "L_UBfGtXTtl2"
      },
      "execution_count": 5,
      "outputs": []
    },
    {
      "cell_type": "code",
      "source": [
        "dataset = keras.utils.text_dataset_from_directory(directory=\"aclImdb\", label_mode=None, batch_size=256)"
      ],
      "metadata": {
        "colab": {
          "base_uri": "https://localhost:8080/"
        },
        "id": "Tq7FDshM6Z3B",
        "outputId": "a47dc704-a82d-4532-e702-93c04a0ace36"
      },
      "execution_count": 4,
      "outputs": [
        {
          "output_type": "stream",
          "name": "stdout",
          "text": [
            "Found 100006 files belonging to 1 classes.\n"
          ]
        }
      ]
    },
    {
      "cell_type": "code",
      "source": [
        "dataset = dataset.map(lambda x: tf.strings.regex_replace(x, \"<br />\", \" \"))"
      ],
      "metadata": {
        "id": "uSkUvkwc6wTu"
      },
      "execution_count": 6,
      "outputs": []
    },
    {
      "cell_type": "code",
      "source": [
        "for d in dataset:\n",
        "  print(d[0])\n",
        "  break\n"
      ],
      "metadata": {
        "colab": {
          "base_uri": "https://localhost:8080/"
        },
        "id": "B9-GAlVf69hg",
        "outputId": "3c6c38f4-87bd-4408-993e-edc753df54d8"
      },
      "execution_count": 15,
      "outputs": [
        {
          "output_type": "stream",
          "name": "stdout",
          "text": [
            "tf.Tensor(b\"I sat down to watch this film with much trepidation and little hope. I didn't think it would be possible for this film to live up to its subject matter. But it absolutely did, and then some. First, I must say that Jared Harris did an extraordinary job as John Lennon. At times it seemed that Harris was channeling Lennon. The resemblance was often uncanny, and he clearly studied Lennon's mannerisms and vocal inflections. Aiden Quinn was quite good as McCartney, also bearing a striking resemblance to Macca, although he did occasionally trip over his Scouse accent.  This work of fiction was well-written and well-directed. It was pure fantasy, of course, but sometimes I felt like a voyeur peeking through a keyhole at this reunion. The rooftop scene was especially moving, as McCartney told Lennon what he had never heard as a child--that he was worthy and important, and it could never be his fault that he was abandoned by his parents. I also enjoyed the scene in the park where the pair of them danced with absolute abandon to the reggae band!  My one complaint would be this: I am not so sure that John was as caustic as he was portrayed in the film at this stage in his life. He had settled in to his domestic situation quite nicely, and he was actually known to be quite friendly when approached by fans. Only a few years later, he was very friendly when he was first approached by his assassin for an autograph on the day he was murdered.  Mostly this film served to stir up those feelings again about what might have been had John lived a bit longer. I am quite sure the Beatles would have come back together at some stage. And I am quite certain that Lennon and McCartney would still be friends today.  Well done, VH1. I will watch it again and again.  \", shape=(), dtype=string)\n"
          ]
        }
      ]
    },
    {
      "cell_type": "markdown",
      "source": [
        "## Text to vector conversion"
      ],
      "metadata": {
        "id": "9PuzS7ee7mrn"
      }
    },
    {
      "cell_type": "code",
      "source": [
        "from tensorflow.keras.layers import TextVectorization"
      ],
      "metadata": {
        "id": "3iH_Kw8-7C4W"
      },
      "execution_count": 16,
      "outputs": []
    },
    {
      "cell_type": "code",
      "source": [
        "sequence_length = 100\n",
        "\n",
        "# We’ll only consider the top 15,000 most common words—anything else will be treated as the out-of-vocabulary token, \"[UNK]\".\n",
        "# We want to return integer word index sequences.\n",
        "# We’ll work with inputs and targets of length 100 (but since we’ll offset the targets by 1, the model will actually see sequences of length 99).\n",
        "vocab_size = 15000\n",
        "text_vectorization = TextVectorization(max_tokens=vocab_size, output_mode=\"int\", output_sequence_length=sequence_length)\n",
        "text_vectorization.adapt(dataset)"
      ],
      "metadata": {
        "id": "l0hX_8Zx7sK4"
      },
      "execution_count": 17,
      "outputs": []
    },
    {
      "cell_type": "markdown",
      "source": [
        "Let’s use the layer to create a language modeling dataset where input samples are vectorized texts, and corresponding targets are the same texts offset by one word."
      ],
      "metadata": {
        "id": "kWXbBsWU8lxk"
      }
    },
    {
      "cell_type": "code",
      "source": [
        "def prepare_lm_dataset(text_batch):\n",
        "  vectorized_sequences = text_vectorization(text_batch)\n",
        "  x = vectorized_sequences[:, :-1] # Create inputs by cutting off the last word of the sequences.\n",
        "  y = vectorized_sequences[:, 1:]\n",
        "  return x, y"
      ],
      "metadata": {
        "id": "9QDwf1kg8kU8"
      },
      "execution_count": 18,
      "outputs": []
    },
    {
      "cell_type": "code",
      "source": [
        "lm_dataset = dataset.map(prepare_lm_dataset, num_parallel_calls=4)"
      ],
      "metadata": {
        "id": "7jQGR9Eu89s6"
      },
      "execution_count": 19,
      "outputs": []
    },
    {
      "cell_type": "code",
      "source": [
        "for l in lm_dataset:\n",
        "  print(\"input: \", l[0])\n",
        "  print(\"output: \",l[1])\n",
        "  break"
      ],
      "metadata": {
        "colab": {
          "base_uri": "https://localhost:8080/"
        },
        "id": "B0TKEYkd9Ehm",
        "outputId": "9818ade6-7d4b-4d33-e57b-6c924a4b7895"
      },
      "execution_count": 24,
      "outputs": [
        {
          "output_type": "stream",
          "name": "stdout",
          "text": [
            "input:  tf.Tensor(\n",
            "[[ 6355   387 13277 ...     5    42  1986]\n",
            " [  323   383   733 ...   699     2  2539]\n",
            " [  310     5     2 ...    13     1    50]\n",
            " ...\n",
            " [   11    17     7 ...   135    31     8]\n",
            " [    1   172    35 ...   409   500   989]\n",
            " [   22    33   743 ...     0     0     0]], shape=(256, 99), dtype=int64)\n",
            "output:  tf.Tensor(\n",
            "[[  387 13277   798 ...    42  1986  7098]\n",
            " [  383   733   270 ...     2  2539   793]\n",
            " [    5     2   572 ...     1    50    11]\n",
            " ...\n",
            " [   17     7     4 ...    31     8    31]\n",
            " [  172    35     2 ...   500   989    43]\n",
            " [   33   743    19 ...     0     0     0]], shape=(256, 99), dtype=int64)\n"
          ]
        }
      ]
    },
    {
      "cell_type": "markdown",
      "source": [
        "## Transformer-based model\n",
        "We could train a model that takes as input a sequence of N words and simply predicts word N+1. But this can cause couple of issues so, we’ll use a sequence-to-sequence model: we’ll feed sequences of N words (indexed from 0 to N) into our model, and we’ll predict the sequence offset by one (from 1 to N+1).\n",
        "\n",
        "![Screenshot from 02-12-23 06:26:46](https://github.com/surajkarki66/MediLeaf_backend/assets/50628520/09b4c824-c116-468e-9808-109e45a6a0d3)\n",
        "\n",
        "\n",
        "When you’re doing text generation, there is no source sequence: you’re just trying to predict the next tokens in the target sequence given past tokens, which we can do using only the decoder."
      ],
      "metadata": {
        "id": "y4lH2aij9_om"
      }
    },
    {
      "cell_type": "code",
      "source": [
        "import tensorflow as tf\n",
        "from tensorflow.keras import layers\n",
        "\n",
        "class PositionalEmbedding(layers.Layer):\n",
        "    '''A positional encoding is a finite dimensional representation of the location or “position” of items in a sequence.\n",
        "     Given some sequence A = [a_0, …, a_{n-1}], the positional encoding must be some type of tensor that we can feed to a\n",
        "     model to tell it where some value a_i is in the sequence A.'''\n",
        "    def __init__(self, sequence_length, input_dim, output_dim, **kwargs):\n",
        "        super().__init__(**kwargs)\n",
        "        self.token_embeddings = layers.Embedding(\n",
        "            input_dim=input_dim, output_dim=output_dim)\n",
        "        self.position_embeddings = layers.Embedding(\n",
        "            input_dim=sequence_length, output_dim=output_dim)\n",
        "        self.sequence_length = sequence_length\n",
        "        self.input_dim = input_dim\n",
        "        self.output_dim = output_dim\n",
        "\n",
        "    def call(self, inputs):\n",
        "        length = tf.shape(inputs)[-1]\n",
        "        positions = tf.range(start=0, limit=length, delta=1)\n",
        "        embedded_tokens = self.token_embeddings(inputs)\n",
        "        embedded_positions = self.position_embeddings(positions)\n",
        "        return embedded_tokens + embedded_positions\n",
        "\n",
        "    def compute_mask(self, inputs, mask=None):\n",
        "        return tf.math.not_equal(inputs, 0)\n",
        "\n",
        "    def get_config(self):\n",
        "        config = super(PositionalEmbedding, self).get_config()\n",
        "        config.update({\n",
        "            \"output_dim\": self.output_dim,\n",
        "            \"sequence_length\": self.sequence_length,\n",
        "            \"input_dim\": self.input_dim,\n",
        "        })\n",
        "        return config\n",
        "\n",
        "\n",
        "class TransformerDecoder(layers.Layer):\n",
        "    def __init__(self, embed_dim, dense_dim, num_heads, **kwargs):\n",
        "        super().__init__(**kwargs)\n",
        "        self.embed_dim = embed_dim\n",
        "        self.dense_dim = dense_dim\n",
        "        self.num_heads = num_heads\n",
        "        self.attention_1 = layers.MultiHeadAttention(\n",
        "          num_heads=num_heads, key_dim=embed_dim)\n",
        "        self.attention_2 = layers.MultiHeadAttention(\n",
        "          num_heads=num_heads, key_dim=embed_dim)\n",
        "        self.dense_proj = keras.Sequential(\n",
        "            [layers.Dense(dense_dim, activation=\"relu\"),\n",
        "             layers.Dense(embed_dim),]\n",
        "        )\n",
        "        self.layernorm_1 = layers.LayerNormalization()\n",
        "        self.layernorm_2 = layers.LayerNormalization()\n",
        "        self.layernorm_3 = layers.LayerNormalization()\n",
        "        self.supports_masking = True\n",
        "\n",
        "    def get_config(self):\n",
        "        config = super(TransformerDecoder, self).get_config()\n",
        "        config.update({\n",
        "            \"embed_dim\": self.embed_dim,\n",
        "            \"num_heads\": self.num_heads,\n",
        "            \"dense_dim\": self.dense_dim,\n",
        "        })\n",
        "        return config\n",
        "\n",
        "    def get_causal_attention_mask(self, inputs):\n",
        "        input_shape = tf.shape(inputs)\n",
        "        batch_size, sequence_length = input_shape[0], input_shape[1]\n",
        "        i = tf.range(sequence_length)[:, tf.newaxis]\n",
        "        j = tf.range(sequence_length)\n",
        "        mask = tf.cast(i >= j, dtype=\"int32\")\n",
        "        mask = tf.reshape(mask, (1, input_shape[1], input_shape[1]))\n",
        "        mult = tf.concat(\n",
        "            [tf.expand_dims(batch_size, -1),\n",
        "             tf.constant([1, 1], dtype=tf.int32)], axis=0)\n",
        "        return tf.tile(mask, mult)\n",
        "\n",
        "    def call(self, inputs, encoder_outputs, mask=None):\n",
        "        causal_mask = self.get_causal_attention_mask(inputs)\n",
        "        if mask is not None:\n",
        "            padding_mask = tf.cast(\n",
        "                mask[:, tf.newaxis, :], dtype=\"int32\")\n",
        "            padding_mask = tf.minimum(padding_mask, causal_mask)\n",
        "        else:\n",
        "            padding_mask = mask\n",
        "        attention_output_1 = self.attention_1(\n",
        "            query=inputs,\n",
        "            value=inputs,\n",
        "            key=inputs,\n",
        "            attention_mask=causal_mask)\n",
        "        attention_output_1 = self.layernorm_1(inputs + attention_output_1)\n",
        "        attention_output_2 = self.attention_2(\n",
        "            query=attention_output_1,\n",
        "            value=encoder_outputs,\n",
        "            key=encoder_outputs,\n",
        "            attention_mask=padding_mask,\n",
        "        )\n",
        "        attention_output_2 = self.layernorm_2(\n",
        "            attention_output_1 + attention_output_2)\n",
        "        proj_output = self.dense_proj(attention_output_2)\n",
        "        return self.layernorm_3(attention_output_2 + proj_output)"
      ],
      "metadata": {
        "id": "IfeNhspCCtI_"
      },
      "execution_count": 27,
      "outputs": []
    },
    {
      "cell_type": "code",
      "source": [
        "from tensorflow.keras import layers\n",
        "\n",
        "embed_dim = 256\n",
        "latent_dim = 2048\n",
        "num_heads = 2\n",
        "\n",
        "inputs = keras.Input(shape=(None,), dtype=\"int64\")\n",
        "x = PositionalEmbedding(sequence_length, vocab_size, embed_dim)(inputs)\n",
        "x = TransformerDecoder(embed_dim, latent_dim, num_heads)(x, x)\n",
        "outputs = layers.Dense(vocab_size, activation=\"softmax\")(x)\n",
        "model = keras.Model(inputs, outputs)\n",
        "model.compile(loss=\"sparse_categorical_crossentropy\", optimizer=\"rmsprop\")"
      ],
      "metadata": {
        "id": "aDgxa9EB9GNG"
      },
      "execution_count": 28,
      "outputs": []
    },
    {
      "cell_type": "markdown",
      "source": [
        "## A text-generation callback with variable-temperature sampling\n",
        "\n",
        "We’ll use a callback to generate text using a range of different temperatures after every epoch. This allows you to see how the generated text evolves as the model begins to converge, as well as the impact of temperature in the sampling strategy. To seed text generation, we’ll use the prompt “this movie”: all of our generated texts will start with this.\n",
        "\n",
        "**The text-generation callback**"
      ],
      "metadata": {
        "id": "_u509x-0FXJq"
      }
    },
    {
      "cell_type": "code",
      "source": [
        "import numpy as np\n",
        "\n",
        "tokens_index = dict(enumerate(text_vectorization.get_vocabulary()))\n",
        "\n",
        "def sample_next(predictions, temperature=1.0):\n",
        "    predictions = np.asarray(predictions).astype(\"float64\")\n",
        "    predictions = np.log(predictions) / temperature\n",
        "    exp_preds = np.exp(predictions)\n",
        "    predictions = exp_preds / np.sum(exp_preds)\n",
        "    probas = np.random.multinomial(1, predictions, 1)\n",
        "    return np.argmax(probas)\n",
        "\n",
        "class TextGenerator(keras.callbacks.Callback):\n",
        "    def __init__(self,\n",
        "                 prompt,\n",
        "                 generate_length,\n",
        "                 model_input_length,\n",
        "                 temperatures=(1.,),\n",
        "                 print_freq=1):\n",
        "        self.prompt = prompt\n",
        "        self.generate_length = generate_length\n",
        "        self.model_input_length = model_input_length\n",
        "        self.temperatures = temperatures\n",
        "        self.print_freq = print_freq\n",
        "        vectorized_prompt = text_vectorization([prompt])[0].numpy()\n",
        "        self.prompt_length = np.nonzero(vectorized_prompt == 0)[0][0]\n",
        "\n",
        "    def on_epoch_end(self, epoch, logs=None):\n",
        "        if (epoch + 1) % self.print_freq != 0:\n",
        "            return\n",
        "        for temperature in self.temperatures:\n",
        "            print(\"== Generating with temperature\", temperature)\n",
        "            sentence = self.prompt\n",
        "            for i in range(self.generate_length):\n",
        "                tokenized_sentence = text_vectorization([sentence])\n",
        "                predictions = self.model(tokenized_sentence)\n",
        "                next_token = sample_next(\n",
        "                    predictions[0, self.prompt_length - 1 + i, :]\n",
        "                )\n",
        "                sampled_token = tokens_index[next_token]\n",
        "                sentence += \" \" + sampled_token\n",
        "            print(sentence)\n",
        "\n",
        "prompt = \"This movie\"\n",
        "text_gen_callback = TextGenerator(\n",
        "    prompt,\n",
        "    generate_length=50,\n",
        "    model_input_length=sequence_length,\n",
        "    temperatures=(0.2, 0.5, 0.7, 1., 1.5))"
      ],
      "metadata": {
        "id": "-h5rScEPFZe1"
      },
      "execution_count": 29,
      "outputs": []
    },
    {
      "cell_type": "markdown",
      "source": [
        "Since this model takes lots of time to train i am going to train it only for 25 epochs"
      ],
      "metadata": {
        "id": "XOQWCmoIJBt6"
      }
    },
    {
      "cell_type": "code",
      "source": [
        "model.fit(lm_dataset, epochs=25, callbacks=[text_gen_callback])"
      ],
      "metadata": {
        "colab": {
          "base_uri": "https://localhost:8080/"
        },
        "id": "Ek34n6eaGgbf",
        "outputId": "bb6b08e5-4d9f-41d5-8110-89ac5357fa92"
      },
      "execution_count": 31,
      "outputs": [
        {
          "output_type": "stream",
          "name": "stdout",
          "text": [
            "Epoch 1/25\n",
            "391/391 [==============================] - ETA: 0s - loss: 5.1750== Generating with temperature 0.2\n",
            "This movie from the biggest piece is so good one definitely put off the acting a great speaking of material definitely lacks understanding a plot the cast is that are supposed to be one or a few scenes abound in shock some plausibility the movie takes to the character and the place\n",
            "== Generating with temperature 0.5\n",
            "This movie is one of the best of the [UNK] bits its one of the best ive ever seen in a bit of the events 1 for two hype there is simple and not to have my computer graphics is robert emotionless the music can you stand on the better than that\n",
            "== Generating with temperature 0.7\n",
            "This movie starts to be a very good movie this is a [UNK] for me they get a church of authenticity poor flight about what was involved in a plane into a new i was a moving it not to see it is the early 1960s i would be yet they werent\n",
            "== Generating with temperature 1.0\n",
            "This movie should be [UNK] worst movie i have ever seen about zombie movie i have one had the many this character is said to the plot to terms of them with all starts getting jenkins comes down the plot such a worse could have mentioned that sounds of the screen time\n",
            "== Generating with temperature 1.5\n",
            "This movie is like many unusual that keeps matters worse [UNK] not the same regarding most boring this movie elements of films and are certainly among them on a very enthusiastic count [UNK] as the films which [UNK] [UNK] music and dialogue are there is far as al [UNK] is about being\n",
            "391/391 [==============================] - 168s 430ms/step - loss: 5.1750\n",
            "Epoch 2/25\n",
            "391/391 [==============================] - ETA: 0s - loss: 5.1188== Generating with temperature 0.2\n",
            "This movie was good for a local video [UNK] movie was a stereotype in the result is pretty good but this horror horror and not for worse i was one where nothing is an unbelievably dumb for it looked obvious but worse and cried by comedy to say that i mean stupid\n",
            "== Generating with temperature 0.5\n",
            "This movie is so bad ive just the acting ridiculous he uses every cliché out of incredibly bad everything walks around this thing this movie a great setting the acting wasnt waiting for the plot plot were walking right maybe this movie is some good its just plain bad i want to\n",
            "== Generating with temperature 0.7\n",
            "This movie was released since i first i have for some dolls that i never shown added to what i have tried to do with awesome i am other night and wait to say that the commercials just watching this comment on and my [UNK] as one of my discovery of them\n",
            "== Generating with temperature 1.0\n",
            "This movie is easily cut down to miss hill and neither good the cave running time ive never seen in my drug images of millions [UNK] have no method i bet by a bunch of the son during this is the result is [UNK] but because of such a role hard for\n",
            "== Generating with temperature 1.5\n",
            "This movie is definitely one of the worst things ive ever unfunny it ever made me that while a schedule to see the fisherman doesnt leave stopped though i didnt make me [UNK] for a woke up in the effects amsterdam please see it had grown up woefully jacksons performance is a\n",
            "391/391 [==============================] - 167s 428ms/step - loss: 5.1188\n",
            "Epoch 3/25\n",
            "391/391 [==============================] - ETA: 0s - loss: 5.0725== Generating with temperature 0.2\n",
            "This movie is a date movie and am just decided to see you wanted to be pretty good and have been watching a deep into space movie but definitely not the movie but i had the scenes are just fine but i loved every time telling facts and in the film probably\n",
            "== Generating with temperature 0.5\n",
            "This movie takes a very creepy revolver recorded into a family after finding out perfectly while watching a vacation namely down one into this movie is full of funny and very beginning i saw it seems like ben stiller are the backdrop then into taking a ride driving me one recalls a\n",
            "== Generating with temperature 0.7\n",
            "This movie is so bored that i live with me into the movie was not that it was that it was fun i really funny you cant figure out to laugh it there by the movie embodies the movie a true story picks up in august snake scene where theres more for\n",
            "== Generating with temperature 1.0\n",
            "This movie is a remake of 7 years ago and every whole lights are okay so cool voice overs anyone knows what am however i saw it go out like this comment that its boring but i wanted to give the [UNK] final nail talent for many gems and higher rating on\n",
            "== Generating with temperature 1.5\n",
            "This movie looked like a [UNK] movie made from the small town arrival in america called a huge bay with two aliens at all they see how people today and for their father [UNK] for adults were that kids and is paid navy seals were just based on story was an american\n",
            "391/391 [==============================] - 169s 431ms/step - loss: 5.0725\n",
            "Epoch 4/25\n",
            "391/391 [==============================] - ETA: 0s - loss: 5.0324== Generating with temperature 0.2\n",
            "This movie misses what should have been enchanted by far more seriously [UNK] [UNK] and i can never heard an earlier it is about 10 minutes are all three souls presumably higher rating however it seems to be told through the details here are all be possible in its not showing what\n",
            "== Generating with temperature 0.5\n",
            "This movie has been worse than the most interesting acting direction poor acting is so tedious and plot is the dialog does nothing better cinematography direction tries [UNK] [UNK] from numerous to say though id recommend anything special effects or pathetic attempt made it to cheesiness [UNK] out of their souls for\n",
            "== Generating with temperature 0.7\n",
            "This movie is worse than the times i wont let me because i found it and i wouldnt call something that i am laughing at least describe the worst sequel where the poor acting bad the cause i was absolutely atrocious just couldnt sit through its one [UNK] before it was kind\n",
            "== Generating with temperature 1.0\n",
            "This movie had heard so much that is false its obvious reality television in terms of intelligence for a true jimmy lombard ended up being filled with the most talented milligan is almost certainly had been done it could have a lot of reference for other films spoiler alert a certain people\n",
            "== Generating with temperature 1.5\n",
            "This movie takes some sexy in the first part is interesting kind of shadows run around it is a movie about the fitting being told him patricia and shut down dazzling character victim to be trying to describe him free by pointless boring an explanation who only interested in a direction expected\n",
            "391/391 [==============================] - 168s 429ms/step - loss: 5.0324\n",
            "Epoch 5/25\n",
            "391/391 [==============================] - ETA: 0s - loss: 4.9978== Generating with temperature 0.2\n",
            "This movie was terrible nothing so it just lame not like it has the effects were good to play special effects are no special [UNK] sometimes humorous it to shame to good nonexistent and it got carried away and this with some pathetic it wasnt quite good gore and boring i could\n",
            "== Generating with temperature 0.5\n",
            "This movie is plenty of serious themes its brutality than the flaws and almost a lot of macabre how it is enough to forms and that are not that happened to pretension to criticize a romantic melodramatic [UNK] [UNK] are a lot about the work is most of bible has become obsessed\n",
            "== Generating with temperature 0.7\n",
            "This movie is about a mixture of mine village in 1958 i remember the culture that it is about [UNK] the metal flying from their way of ren politics and sexual love of course jeez im amazed about the film is faced pulse so much about their southern society revolves around the\n",
            "== Generating with temperature 1.0\n",
            "This movie is the witty and different a weird the dvd this movie hitchcock has a modern twist of violent ninjas while im a heated psychopath with elusive thriller that being [UNK] secret agent [UNK] line is simple its not reality with low budget horror was photographed by insult a rock hiding\n",
            "== Generating with temperature 1.5\n",
            "This movie is absolutely [UNK] it is filled with a lousy dogma comedy music and absurd and parts of neeson is a hint to end and shallow and forgiveness which lets make it was not that i threw my attention to milla [UNK] style of deep insight fare but why would love\n",
            "391/391 [==============================] - 168s 430ms/step - loss: 4.9978\n",
            "Epoch 6/25\n",
            "391/391 [==============================] - ETA: 0s - loss: 4.9670== Generating with temperature 0.2\n",
            "This movie is slow silly come out of surfing through character vengeance still an unintentionally acted very little every line i enjoyed this this film and even and the ending is more than a film  took neighbor it 7 and her thought this filled viva mobile and that im comes sister\n",
            "== Generating with temperature 0.5\n",
            "This movie was a keen fan i have some favorite new years ago a very funny movie it i fall apart from nearly everyone i am actually liked the series on the film is no surprise that matter what i recommend it and there were driving however its now that i never\n",
            "== Generating with temperature 0.7\n",
            "This movie rank as the life [UNK] the movie got to its cheap but should really silly its pretty good acting the special effects in this movie is so slow amazingly cheesy and satanic in the play a novel wasnt scary voice ian hunter speed well executed as bad one the monsters\n",
            "== Generating with temperature 1.0\n",
            "This movie had potential obviously from an excellent script the basic plot twist of two lead as something slightly weak plot flaws and stuff kate v becomes up stupid is that this movie spoiler it could have no flow andor [UNK] j [UNK] following dennis dont wash her ability for the same\n",
            "== Generating with temperature 1.5\n",
            "This movie has killed my daughter and i would have already been 400 years so many time looking for those 2 hours wondering why i finally its that this was there is this movie i expected to how this movie i found myself wishing to fill out there was a great deal\n",
            "391/391 [==============================] - 167s 427ms/step - loss: 4.9670\n",
            "Epoch 7/25\n",
            "391/391 [==============================] - ETA: 0s - loss: 4.9386== Generating with temperature 0.2\n",
            "This movie sucked so [UNK] movie sucked its not enough to explain why centre of the reading i watched it seem so many faces on the characters were told the story behind the writers for their [UNK] into the book into the movie [UNK] at times on [UNK] [UNK] gets lesser [UNK]\n",
            "== Generating with temperature 0.5\n",
            "This movie is so [UNK] its a must see how come into a five favorite movie like guns it looks awful looking after hours project like the sex was filmed this movie or brutal still there is the cake the movies like this well as something ridiculous now kept my few decent\n",
            "== Generating with temperature 0.7\n",
            "This movie produced in [UNK] what was made in paris in paris still hurts like a normal movies we were payed money i have been made from the place entirely out to color as a lab before that he [UNK] is left and wind and montages never did as he was enter\n",
            "== Generating with temperature 1.0\n",
            "This movie is an [UNK] perfect example of a hit at an 87 mins but to say is definitely the best [UNK] adults thats probably the very concept the movie is matched by the cinematography is meant for himself and very funny chris odonnell [UNK] is rare and he does not his\n",
            "== Generating with temperature 1.5\n",
            "This movie has a lot of clever line issues i walking through but it and i felt about some [UNK] the same [UNK] hilarious i adore it did enjoy it was really enjoyed myself spent all the music i was like the young teenagers and i wouldnt have to find it reminds\n",
            "391/391 [==============================] - 168s 430ms/step - loss: 4.9386\n",
            "Epoch 8/25\n",
            "391/391 [==============================] - ETA: 0s - loss: 4.9127== Generating with temperature 0.2\n",
            "This movie is proof that can one of the worst movies i dunno the beauty is worse than this piece when the director should be as it went beyond words documentaries and while watching the scenes are repeated was that creepers that paul bettany are viable terribly weak if the content not\n",
            "== Generating with temperature 0.5\n",
            "This movie is possibly the worst ever made terrible acting was so many vulgarity it was good it was horrible chilling moments such as bad i couldnt have so the money on it was so bad and the plot was dreadful piece of me sick of how she is like a documentary\n",
            "== Generating with temperature 0.7\n",
            "This movie is totally awful it is terrible the least once quite the best romantic is the most about this movie ive seen through blinded by british cinema of the additions strike me wonder if it was no plot is not watching for lara [UNK] of ever spent on the acting and\n",
            "== Generating with temperature 1.0\n",
            "This movie is quite true cant believe me alternately flawed its hard core this date maybe its being ranging from [UNK] if the lack of writing they had read and bumbling injury suicide before we dont think so many its funny i mean no hint rule the critics would have enough to\n",
            "== Generating with temperature 1.5\n",
            "This movie was more horrible than ever had a 410 stars turned out there was some reason while watching it i really annoyed me a little film got a laugh or something straight out fine hero on the guy because focused on coke her annoying kid or 3 more real good makeup\n",
            "391/391 [==============================] - 168s 428ms/step - loss: 4.9127\n",
            "Epoch 9/25\n",
            "391/391 [==============================] - ETA: 0s - loss: 4.8891== Generating with temperature 0.2\n",
            "This movie stunk i should basically had an excellent performance by all the end it has a great job of movie you away but its going for about that you being on the story line and like ive heard from reading a fun and that is a scary for oscar winner this\n",
            "== Generating with temperature 0.5\n",
            "This movie gets kind of like fall into it the beginning the end of life or something akin to point jack frost it is that heaven appears that evokes the bible love loyalty and tells his novels or anything that matters is a decent thriller there are we just the trials of\n",
            "== Generating with temperature 0.7\n",
            "This movie is back on the test a small town life back to mexico city on the real friendly country where ruined by a [UNK] were killed and then things started in hopes of the [UNK] the differences nevertheless i thought it could be or shooting took place for what was kept\n",
            "== Generating with temperature 1.0\n",
            "This movie was simply awful awful the obvious farce 25 minutes of the movie was annoying someone had no where the spiral but black [UNK] true mores kept trying to become a real muslim [UNK] interest nope [UNK] had stale the return to do they had told in the middle of [UNK]\n",
            "== Generating with temperature 1.5\n",
            "This movie is a strange series that takes anything like resident evil brother who usually resorts to be the sport of a man who cares for murder is also get lifted directly from what he is wrong movie in a wax in a cloth of a handful of the movie of documentary\n",
            "391/391 [==============================] - 168s 431ms/step - loss: 4.8891\n",
            "Epoch 10/25\n",
            "391/391 [==============================] - ETA: 0s - loss: 4.8665== Generating with temperature 0.2\n",
            "This movie that is so bad i liked the characters are [UNK] changed in a boring especially at the beginning of a bit long and yeah that the ending was different the references but not convincing not since rather not a lot of fact their [UNK] if they were scott sets of\n",
            "== Generating with temperature 0.5\n",
            "This movie is using all it in years and [UNK] by the hope the animals that all acting is stunningly repulsive king humans is rare negatively line and cannot be one of the hands [UNK] and [UNK] [UNK] to [UNK] tick people and how [UNK] racism is enough to [UNK] [UNK] a\n",
            "== Generating with temperature 0.7\n",
            "This movie is down to a mountain to a drama behind the only [UNK] cabinet of the story unfolds 15 people in paraphrase that got there are told in the say that the film maybe meaning of movie does not a [UNK] scene in which point [UNK] and that the movie are\n",
            "== Generating with temperature 1.0\n",
            "This movie was made to most of the movie then i had so intense that the movie of the end the horrible acting is utterly ridiculous and lost at the ending really does neither they are talking and other holes flat dialogue in the order for at all of any of the\n",
            "== Generating with temperature 1.5\n",
            "This movie was fairly cute but everyone who in this is a very very tightly plotted i dont mess were so silly the cute movie from [UNK] and original but what was in their characters were very real i thought each other big enough to read then i think you the best\n",
            "391/391 [==============================] - 168s 430ms/step - loss: 4.8665\n",
            "Epoch 11/25\n",
            "391/391 [==============================] - ETA: 0s - loss: 4.8459== Generating with temperature 0.2\n",
            "This movie is not big followed after recent memory from germany because some ways we have to because [UNK] movies and then i have that [UNK] shops and i mean everyone knows fk stories and never seen lex you havent laughed the swedish on top dramatic impact this would hesitate to change\n",
            "== Generating with temperature 0.5\n",
            "This movie is not only the movie but about it it is that you just that makes it hits home movies etc because not in the previous commenter is beyond misery that it is always go on the kind of real enough it happening [UNK] time nope considering what professional the surface\n",
            "== Generating with temperature 0.7\n",
            "This movie portrays roger upset me of scientists capital mel gibson as his father of his father regarded his son and family i believe it is not know what take to kill them vicious intends to feed off that he was living around his family values however is merely against the death\n",
            "== Generating with temperature 1.0\n",
            "This movie miss me that is almost movie jeff goldblum is crap the funniest actors are stupid its lame im sorry but this movie it was the jokes on every other bs it seems like this thing  the reality at at are deserve at parents at and stay at although seeing\n",
            "== Generating with temperature 1.5\n",
            "This movie which portrays the courage claudette colbert asked to the mysterious innocence to develop on both sides of men to live on their personal parallel lives of several well as they grow their path to their hand of the plot of the new york and a parallel situation on the original\n",
            "391/391 [==============================] - 168s 430ms/step - loss: 4.8459\n",
            "Epoch 12/25\n",
            "391/391 [==============================] - ETA: 0s - loss: 4.8260== Generating with temperature 0.2\n",
            "This movie is rather down and the same as the few [UNK] section [UNK] ambitious but doesnt shed fight scene nearly as its really [UNK] as the other [UNK] of the kind of the two guys and quirky as a bit forced on and it is some doing things approaches the [UNK]\n",
            "== Generating with temperature 0.5\n",
            "This movie is an attempt to cash in a deadly game tells the [UNK] of the most involved in the epic about a real name singer who in new human behavior and family [UNK] friendship and [UNK] but complex visceral items are essential correct children this story of sin [UNK] is feared\n",
            "== Generating with temperature 0.7\n",
            "This movie is a piece of crap wouldnt even released in the cgi is an insult to chew on the seventies movie which also this [UNK] in 1964 version contains obvious choice of making it was number of [UNK] with whatever cinematic realism the man who have the worst movie has to\n",
            "== Generating with temperature 1.0\n",
            "This movie is not [UNK] it really a movie seems to be so easy to be called out of movie no unrelated though i dont look at least had the faults but aside from outer space is about atrocities however everyone would expect with a deep in the case of the main\n",
            "== Generating with temperature 1.5\n",
            "This movie is not that the dark as some people dont have fallen asleep is [UNK] special i have a result is in it is simple yet i cannot see on here the acting too bad movie the use an action the only reason this guy who is a 4 or a\n",
            "391/391 [==============================] - 169s 432ms/step - loss: 4.8260\n",
            "Epoch 13/25\n",
            "391/391 [==============================] - ETA: 0s - loss: 4.8076== Generating with temperature 0.2\n",
            "This movie just for sexism the clichés which his acting and production makeup is rather bland portrayal of movements are evil man with nothing bad but the characters really apparent that we look like a few and the few visual effects and stale the only effective just more confusing especially scream other\n",
            "== Generating with temperature 0.5\n",
            "This movie sucked so terrible the positive performance jason yee the whole movie offers me acting from besides every character can clearly ripped off after president well that his martial arts films in a 2 though the way in the holes as for his villainous suit and clever political murderer a [UNK]\n",
            "== Generating with temperature 0.7\n",
            "This movie is so violent today the movie about a tiger abuse accused the title of the killing a particularly black widow of character and brutality and brutal crime lord and power is both souls made as the murder is one might see his aims over winding descent into an entirely idealistic\n",
            "== Generating with temperature 1.0\n",
            "This movie never starts out with a german navy overbearing mother dies at her father dies [UNK] son timothy van [UNK] the death of money she tells her research leaving two tickets to [UNK] whose father has a local hot body that happened victim is soon ernest p the killer who decides\n",
            "== Generating with temperature 1.5\n",
            "This movie made me sick how this must admit to me [UNK] [UNK] love triangle love story it had exciting and romance i only of love billy cooper and tried to cry even to be many of happening in this movie  lines were at books and as sir at [UNK] fast\n",
            "391/391 [==============================] - 168s 430ms/step - loss: 4.8076\n",
            "Epoch 14/25\n",
            "391/391 [==============================] - ETA: 0s - loss: 4.7898== Generating with temperature 0.2\n",
            "This movie is horrible the editing is corny i wasted 2 hours of watching that the acting isnt worth watching it was good but they call them acting had in it this film [UNK] you the 2 hours the room floor had no plot which is the film the story would follow\n",
            "== Generating with temperature 0.5\n",
            "This movie should show in my opinion i would definitely be one of all time more intelligence than anderson i stumbled upon what trash there wasnt funny for over 15 not get into it is just got good morals are they live or 4 12 hour long time watching [UNK] season the\n",
            "== Generating with temperature 0.7\n",
            "This movie hates the movie sucked so much its fun and the worst crap even worth seeing that but then theres [UNK] creepers cmon ah another thing about this its shot out after the music move that didnt hurt is mike myers characters are too seriously no why we missed the action\n",
            "== Generating with temperature 1.0\n",
            "This movie is the first thing you should think about this is not mean you think i grew up man that they seem to do really are just an experiment to [UNK] very real western that you neck dennis hopper coming this movie was crossing the mind and the demon house is\n",
            "== Generating with temperature 1.5\n",
            "This movie was hard to track down this movie and clearly a pretty good job it was also seemed that this movie stinks for the main villain appearing so that garson [UNK] was just too bad sometimes popular cast remember directing all pretty terrible its not enough for him turning into a\n",
            "391/391 [==============================] - 168s 429ms/step - loss: 4.7898\n",
            "Epoch 15/25\n",
            "391/391 [==============================] - ETA: 0s - loss: 4.7725== Generating with temperature 0.2\n",
            "This movie was very wellwritten acted it is at best the kind of film that it is such a friend recommended to capture an admirable for me to watch popeye count not that ive seen a documentary dealing with a little more attention the perfect journey that despite few reasons [UNK] and\n",
            "== Generating with temperature 0.5\n",
            "This movie is so bad if you could not for a few things that it first [UNK] hunt heres my opinion is a woman acting with the new things better its so bad sometimes have seen in that is a soap it i assure you actually from a very twisted that everyone\n",
            "== Generating with temperature 0.7\n",
            "This movie had no expectation compassion granted art loved the black visions bounds ahead of the story is killed their victims but even more wicked enemies these two days best seller the fact greed religion they pull off with it may be sure the story it sometimes low number 3 [UNK] acting\n",
            "== Generating with temperature 1.0\n",
            "This movie certainly deserves to represent the similarities results among what it is not for russian history it this movie opens on the companys [UNK] slaves of what makes it won an oscar worthy successor to make a movie which the high traffic free rental fee latino guy who was made that\n",
            "== Generating with temperature 1.5\n",
            "This movie claims to be another criticism in chronological mexico the events is based on war that they werent helped by two men sail off late vertigo anymore elephants insert the aspect ratio frame information is an actual facts about grammar by charlie chan film is excellent what do you read spoken\n",
            "391/391 [==============================] - 168s 430ms/step - loss: 4.7725\n",
            "Epoch 16/25\n",
            "391/391 [==============================] - ETA: 0s - loss: 4.7554== Generating with temperature 0.2\n",
            "This movie can quite possibly be considered trashy as monty python and rather gruesome genre in dance studio b monster the hell dry or [UNK] 80s horror films that he started out of parody of doubt the 70s dracula starring johnny dangerously is killing over the scariest opening the plot makes this\n",
            "== Generating with temperature 0.5\n",
            "This movie is so bad there that there are plenty of movies that somehow truly horrible the story opens halfway through the amityville curse is spending place the blood cmon are so many goofs dont scare tactics and thats what takes the first zombies in a lot of zombies with no action\n",
            "== Generating with temperature 0.7\n",
            "This movie sucked down right into fast slide set up the european apartments dripping with legendary story complete blast stopping at times a completely infected eric apache plague file robert blake kent midget detective john [UNK] rugged town sheriff alice cooper burt [UNK] and plays jenny [UNK] andy lau plays dr j\n",
            "== Generating with temperature 1.0\n",
            "This movie is truly down and sappy like a tribute to ease the subject meeting of manipulation and people move dozens of wes craven and my favorite movies involving wild men it shows using the men which really running around the characters and this silly humor in a [UNK] plays into a\n",
            "== Generating with temperature 1.5\n",
            "This movie seems like manic just the writer only director tom selleck has broderick crawford [UNK] but the intention of smug [UNK] c [UNK] and it seems to be signed on so lets just leads her life should be the script pacing at it has him and [UNK] finally the best thing\n",
            "391/391 [==============================] - 169s 432ms/step - loss: 4.7554\n",
            "Epoch 17/25\n",
            "391/391 [==============================] - ETA: 0s - loss: 4.7345== Generating with temperature 0.2\n",
            "This movie involves dogs you to believe in logic to see a tree by millions of a deserted beach after the back of women in the forest would also union as they eventually forced to turn into the victims as to see if sorry to slip by invading lava to be freaked\n",
            "== Generating with temperature 0.5\n",
            "This movie seems to be a cross of nature it 410 for the [UNK] of vulnerability in particular those sorts of [UNK] who have plagued us in the effort the 70s and take the hard acting especially with his colleague who desires for revenge on this film and the world sadly i\n",
            "== Generating with temperature 0.7\n",
            "This movie is a perfect example of painfully slow on what went through revolving on the acting make dog of [UNK] and getting well as the toilet it really who needs to bring the experience it melodramatic blues brothers arent you jump into a suspenseful good but suddenly routine and selfabsorbed characters\n",
            "== Generating with temperature 1.0\n",
            "This movie starts out slowly gloria gray micheal travis play poker researching until morning dead dropping with a dorky cop picks up at [UNK] and he breaks down we have to each other than the audience had his beloved girlfriend the cast is something off to be fat and starts to develop\n",
            "== Generating with temperature 1.5\n",
            "This movie is dr [UNK] that after their kids are out for a different and like killing the kid who claims to different faces then realizes hes trying anymore i was treated to [UNK] [UNK] in a back in the [UNK] peaks of the next thing when [UNK] itself has a flashback\n",
            "391/391 [==============================] - 169s 430ms/step - loss: 4.7345\n",
            "Epoch 18/25\n",
            "391/391 [==============================] - ETA: 0s - loss: 4.6962== Generating with temperature 0.2\n",
            "This movie had potential to stay away lindsay lohan eve in the school with a terrible acting he only a few years ago i have survived the death and her brother wants him and tells her exboyfriend to tell the worlds while visiting [UNK] reporter billy i did together did not make\n",
            "== Generating with temperature 0.5\n",
            "This movie has no laughs and a plot as a big budget the [UNK] is filmed at night as the plot is in the lake inhabited by ghostly known as they are killed and mostly fictional indiana fights bad two as they suspect that the robbers die in the well you like\n",
            "== Generating with temperature 0.7\n",
            "This movie is at the birthday the end of the movie it was not great and is original however the movie built in a very well done in its [UNK] was well written to hell at the director ended too low budget to direct to bring it up a very good idea\n",
            "== Generating with temperature 1.0\n",
            "This movie was quite good enough to this movie is flawed but without a bad alien from [UNK] just screws around hitting a long good points [UNK] [UNK] poor acting poor direction the casting and poor acting bad music who is my found the storyline sucked i can do not save it\n",
            "== Generating with temperature 1.5\n",
            "This movie probably hurts just to the wife of the senator in the tone and so far one is that happened to always watched queen [UNK] classic done drama [UNK] with a couple scenes and potty [UNK] [UNK] are back in full a lot of previous chapters or scene is just a\n",
            "391/391 [==============================] - 168s 430ms/step - loss: 4.6962\n",
            "Epoch 19/25\n",
            "391/391 [==============================] - ETA: 0s - loss: 4.6237== Generating with temperature 0.2\n",
            "This movie was classified as a wellknown as it is the first heavy that i remember being [UNK] or given the pressures of fantasy and effort that it is truly remarkable that this one yet gable at how it plays on a middleaged man in [UNK] a [UNK] golf on some way\n",
            "== Generating with temperature 0.5\n",
            "This movie was a great [UNK] student film festival mr frankie and this is easy to get in this [UNK] they can you actually say dont expect a lot going to look in it gets run a childs cab ride by [UNK] the beach is a great ending it as well written\n",
            "== Generating with temperature 0.7\n",
            "This movie was the most a surprise of the stories about russian history in the mix between snake the [UNK] but the movie is credited enough to make the 20th century fox considering the 1950s and as well as much [UNK] trash there is a lot of kisses and turned off interested\n",
            "== Generating with temperature 1.0\n",
            "This movie was designed to be totally [UNK] although i was there since i could not call a little off before it but i borrowed the plot and eastwoods [UNK] van [UNK] onto the first time its a sequence from my favorites it to the story unfolded nicely engaging plot follows a\n",
            "== Generating with temperature 1.5\n",
            "This movie is [UNK] for all the karate teacher the first time it was something so silly me but that i wanted to like a [UNK] but i loved it and pulled that says that it could do my sweet princess i can fit solely if attitudes towards the whole [UNK] was\n",
            "391/391 [==============================] - 169s 431ms/step - loss: 4.6237\n",
            "Epoch 20/25\n",
            "391/391 [==============================] - ETA: 0s - loss: 4.5450== Generating with temperature 0.2\n",
            "This movie isnt the worst version of marlon brando ever in the mud or replace star wars or ripping of this movie first on the old batman animated series [UNK] the [UNK] duck episode leaves you to turn right a great energy such as comedic legacy as the bills not as it\n",
            "== Generating with temperature 0.5\n",
            "This movie wasnt bad it isnt only for john waters but dont approve of the crow dolls is that i stuck in this documentary i should have seen this in a limited budget remake of danny [UNK] classic similar films in 1972 and that is quite funny since we all passed this\n",
            "== Generating with temperature 0.7\n",
            "This movie is maybe alot of late like nights toward blair witch or just as well made for the [UNK] of running time it was a guilty pleasure actually watching the relations between three young men walking around each other for their tasks associated with the jungle and voodoo [UNK] for hours\n",
            "== Generating with temperature 1.0\n",
            "This movie really was rated r and also this is a huge bit of age [UNK] was used repeatedly looking at her parents by [UNK] the male boob and all mine religion please do not want to be enjoyed anywhere else including lackluster syndrome  kids knowing within too fan childrens kids\n",
            "== Generating with temperature 1.5\n",
            "This movie has all the elements of the same plot is a thin [UNK] blend of visual style samurai a couple of [UNK] warfare contributes to the environments of futuristic backdrops briefly [UNK] hardcore going public horses neither language or honor for polish actors doing everything romance comedy i was able to\n",
            "391/391 [==============================] - 168s 430ms/step - loss: 4.5450\n",
            "Epoch 21/25\n",
            "391/391 [==============================] - ETA: 0s - loss: 4.4870== Generating with temperature 0.2\n",
            "This movie is about a guy who is coping with a great storyline beyond awful 2 urban legends of what could have been great movies maybe not hailed from the first the plot the action isnt perfect [UNK] didnt need to technology the material forget about the seeing where dixon got one\n",
            "== Generating with temperature 0.5\n",
            "This movie is about two things before seeing the title this movie immediately followed quickly after the trailer the audio and thought to [UNK] hai was next big disappointment it came out as a bad movie but at that i thought it was what to was a classic comedy i began to\n",
            "== Generating with temperature 0.7\n",
            "This movie made me wonder how much i bought the dvd i even read a few months ago and i called it seem to know that the [UNK] but the time i only [UNK] upon seeing it back after watching it is a comic masterpiece as a travel show but the gods\n",
            "== Generating with temperature 1.0\n",
            "This movie is not even just [UNK] [UNK] you can rather watch this movie with the must have been drunk enough to watch as much as yor we watch this [UNK] like the way to [UNK] i have to look down in an [UNK] seal the face with a quaint desert or\n",
            "== Generating with temperature 1.5\n",
            "This movie is a poor proof that they can stop from seeing the children that almost as children this really comes on the phone and its not because of the urban women matter is aging in the same people come the beginning but not that [UNK] blows her steals the show feel\n",
            "391/391 [==============================] - 168s 430ms/step - loss: 4.4870\n",
            "Epoch 22/25\n",
            "391/391 [==============================] - ETA: 0s - loss: 4.4487== Generating with temperature 0.2\n",
            "This movie has not aged well at least be sure but the acting is poor donna reed is a good actor but the gang is implausible the infinitely worse guy is the only comedian of the jokes hes mugging in the plot point is mostly failing to do not develop it feels\n",
            "== Generating with temperature 0.5\n",
            "This movie is meant to be funny nothing se true because they are all wrong and everything they act it is real the humor here but not a way of humor we can leave the audience for summer script is captivating which is about to be completely evil and will just keep\n",
            "== Generating with temperature 0.7\n",
            "This movie should never say so much about this movie should not be voted out of 10 movies in my life there always be hard to see that type of movies usually are but warm characters good doesnt destroy me this one wishes that bad hurt in some time only amitabh bachchan\n",
            "== Generating with temperature 1.0\n",
            "This movie is incredible in one of the usual musical genre costumes well written and badly acted the part with brilliant acting and crass [UNK] [UNK] comic effect its not for running around in this [UNK] [UNK] romantic comedy drama viewer the spoiler alert the wonder if you catch this and did\n",
            "== Generating with temperature 1.5\n",
            "This movie is like old boy fighting knight smith is hilarious because its sequel that great choice is the reallife [UNK] voice is it not taking place in his own college and [UNK] for wits to enjoy her role [UNK] hasnt gotten pressure because he can grow up or get such a\n",
            "391/391 [==============================] - 169s 431ms/step - loss: 4.4487\n",
            "Epoch 23/25\n",
            "391/391 [==============================] - ETA: 0s - loss: 4.4188== Generating with temperature 0.2\n",
            "This movie is pretty funny in my opinion on the tv i wasnt expecting much but i was actually laughing at the whole time that you are definitely going to see it because then you dont know what movie was when i turned to get you turned it off but i liked\n",
            "== Generating with temperature 0.5\n",
            "This movie was horrible the same as it looked as some petrified kids grandparents could find it funny there are no gag on either and oh why the whole movie in the chicago [UNK] of the day of the 70s was not surprisingly i guess the movie is about the simple two\n",
            "== Generating with temperature 0.7\n",
            "This movie is the most useful which is the worst thing i like about this movie to watch something with the bible on thats not a message of entertainment value but what i say is that it all [UNK] like that the real world said they have you but have no faith\n",
            "== Generating with temperature 1.0\n",
            "This movie was a big waste of time just terrible and minorities those looking at something this [UNK] i would somehow see it it was on this idea of what i got was and wanted to happen to turn it off i wont even bother unless you sit down and find anything\n",
            "== Generating with temperature 1.5\n",
            "This movie has some good scenes and lots of fun to see it when i think about 6 it were getting 9 and put it over it if you have nothing else it you feel a little bit creepy despite the same christian paranoia very funny in fact i gave it a\n",
            "391/391 [==============================] - 168s 429ms/step - loss: 4.4188\n",
            "Epoch 24/25\n",
            "391/391 [==============================] - ETA: 0s - loss: 4.3918== Generating with temperature 0.2\n",
            "This movie unfolds in spaces the fears it costs the biggest tragedy is going on bad acting its hard to tell this story tale seemed like a waste of time the things going london look at and their home and its worth [UNK] to view whether it or isnt about as realistic\n",
            "== Generating with temperature 0.5\n",
            "This movie kills me steven [UNK] me such movie the guy keeps your ability vessel and whisper what more intellectual seeing his upside down into their ghetto on his own hand by being stuffed with an otherwise eyes and [UNK] i wonder what else he wants to buy simmons for ghosts to\n",
            "== Generating with temperature 0.7\n",
            "This movie is bad i tend to stress things too much information from those chains to the point just because its known characters stumble from television and that try to hide behind every festival which somehow within the movie titles seemed to have deemed much longer than one of those depicted who\n",
            "== Generating with temperature 1.0\n",
            "This movie seems that it all out of all this was not about as i should either the younger viewers or non australian world [UNK] this movie sucks the jokes put into bits even adults either of these films they do deserve their humorous action but dillon does not mean you with\n",
            "== Generating with temperature 1.5\n",
            "This movie has been very reminiscent of music i love how many times can i am sure it ill [UNK] by happy they still are my favorite cities grandfather cracking up and there there typical [UNK] [UNK] [UNK] such as john rambo he brings horror but treat within its surface chicago shakespeares\n",
            "391/391 [==============================] - 169s 432ms/step - loss: 4.3918\n",
            "Epoch 25/25\n",
            "391/391 [==============================] - ETA: 0s - loss: 4.3683== Generating with temperature 0.2\n",
            "This movie was an average rental after the first hour based on a boring premise id be that had the director and a good a good mystery each character was nothing of this work was based i have seen any other old enough i got to say that this movie the picture\n",
            "== Generating with temperature 0.5\n",
            "This movie is so bad i want to watch my entire time i just finished the [UNK] is sooo good i want to watch movies i cry every there are so many good points there are the low meanings a special [UNK] movie contain the sht out of 10 stars that they\n",
            "== Generating with temperature 0.7\n",
            "This movie has to be one of the best made although there are rare moments that makes me laugh forever cry the real robin [UNK] is the more beautiful to look at the narration of the movie gives an opportunity to see that in your face it is how funny it is\n",
            "== Generating with temperature 1.0\n",
            "This movie wasnt entirely that good watched had a second either maybe thats the legion movie could have [UNK] things that are just london and what surely made sense it meant to be a silly attempt to me why should have known what kind of good cinema well you will see it\n",
            "== Generating with temperature 1.5\n",
            "This movie is all what is and in more like fools of love it is good it is great if true a good biography movie was just like seeing two perfect shows this movie is the first time you could think about this is such a movie for people who live in\n",
            "391/391 [==============================] - 169s 433ms/step - loss: 4.3683\n"
          ]
        },
        {
          "output_type": "execute_result",
          "data": {
            "text/plain": [
              "<keras.src.callbacks.History at 0x7ca600de1d20>"
            ]
          },
          "metadata": {},
          "execution_count": 31
        }
      ]
    },
    {
      "cell_type": "markdown",
      "source": [
        "## Conclusion\n",
        "As you can see, a low temperature value results in very boring and repetitive text and can sometimes cause the generation process to get stuck in a loop. With higher temperatures, the generated text becomes more interesting, surprising, even creative. With a very high temperature, the local structure starts to break down, and the output looks largely random."
      ],
      "metadata": {
        "id": "Ixtt0uYbIOw4"
      }
    }
  ]
}